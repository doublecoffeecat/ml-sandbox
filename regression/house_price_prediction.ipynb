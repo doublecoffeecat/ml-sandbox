{
 "cells": [
  {
   "cell_type": "code",
   "execution_count": 1,
   "metadata": {
    "collapsed": true,
    "ExecuteTime": {
     "end_time": "2024-06-21T05:02:52.835602400Z",
     "start_time": "2024-06-21T05:02:51.893321400Z"
    }
   },
   "outputs": [],
   "source": [
    "import pandas as pd\n",
    "from sklearn import linear_model as model\n",
    "from sklearn.model_selection import train_test_split\n",
    "import importlib"
   ]
  },
  {
   "cell_type": "code",
   "execution_count": 10,
   "outputs": [],
   "source": [
    "import ml"
   ],
   "metadata": {
    "collapsed": false,
    "ExecuteTime": {
     "end_time": "2024-06-21T05:03:44.296413800Z",
     "start_time": "2024-06-21T05:03:44.203848Z"
    }
   }
  },
  {
   "cell_type": "code",
   "execution_count": 3,
   "outputs": [],
   "source": [
    "def load_data():\n",
    "    file_path = './data/data.csv'\n",
    "    data = pd.read_csv(file_path)[['sqft_living', 'price']]\n",
    "    data = data.dropna(subset=['sqft_living', 'price'])\n",
    "    data = data[(data['sqft_living'] != 0) & (data['price'] != 0)]\n",
    "    print('csv')\n",
    "    print(data.head())\n",
    "    X = data['sqft_living']\n",
    "    y = data['price']\n",
    "\n",
    "    X_train, X_test, y_train, y_test = train_test_split(X, y, test_size=0.2, random_state=42)\n",
    "\n",
    "    print('data')\n",
    "    print(X_train.shape, y_train.shape, X_test.shape, y_test.shape)\n",
    "    print('X_train\\n', X_train.head())\n",
    "    print('y_train\\n', y_train.head())\n",
    "    print('X_test\\n', X_test.head())\n",
    "    print('y_test\\n', y_test.head())\n",
    "\n",
    "    return X_train, X_test, y_train, y_test"
   ],
   "metadata": {
    "collapsed": false,
    "ExecuteTime": {
     "end_time": "2024-06-21T05:02:52.894648300Z",
     "start_time": "2024-06-21T05:02:52.854814700Z"
    }
   }
  },
  {
   "cell_type": "code",
   "execution_count": 4,
   "outputs": [],
   "source": [
    "def predict_price():\n",
    "    print('predict_price using ml')\n",
    "    X_train, X_test, y_train, y_test = load_data()\n",
    "    X_train = X_train.T\n",
    "    X_test = X_test.T\n",
    "    linear_regression = ml.LinearRegression(None, 0.0000001, 0.0001, 1000000000)\n",
    "    linear_regression.fit(X_train, y_train)\n",
    "\n",
    "    y_hat_test = linear_regression.predict(X_test)\n",
    "    cost_test = linear_regression.cost_function.cost(y_test, y_hat_test)\n",
    "\n",
    "    print(f'Cost on test data: {cost_test}')\n",
    "\n",
    "    y_pred = linear_regression.predict(2000)\n",
    "    print('predicted price when size 2000:', y_pred)\n",
    "\n",
    "    import matplotlib.pyplot as plt\n",
    "    plt.figure(figsize=(10, 6))\n",
    "    plt.scatter(X_test, y_test, color='blue', label='y_test')\n",
    "\n",
    "    plt.plot(X_test, y_hat_test, 'r--', label='y_hat_test')\n",
    "    plt.xlabel('x_test')\n",
    "    plt.ylabel('y_test / y_hat_test')\n",
    "    plt.legend()\n",
    "    plt.show()\n"
   ],
   "metadata": {
    "collapsed": false,
    "ExecuteTime": {
     "end_time": "2024-06-21T05:02:52.902939300Z",
     "start_time": "2024-06-21T05:02:52.868391500Z"
    }
   }
  },
  {
   "cell_type": "code",
   "execution_count": 5,
   "outputs": [],
   "source": [
    "def predict_price_sklearn():\n",
    "    print('predict_price using sklearn')\n",
    "    X_train, X_test, y_train, y_test = load_data()\n",
    "    X_train = X_train.values.reshape(-1, 1)\n",
    "    X_test = X_test.values.reshape(-1, 1)\n",
    "    y_train = y_train.values.reshape(-1, 1)\n",
    "    y_test = y_test.values.reshape(-1, 1)\n",
    "\n",
    "    linear_regression = model.LinearRegression()\n",
    "    linear_regression.fit(X_train, y_train)\n",
    "\n",
    "    y_hat_test = linear_regression.predict(X_test)\n",
    "    cost_test = linear_regression.score(X_test, y_test)\n",
    "\n",
    "    print(f'Cost on test data: {cost_test}')\n",
    "\n",
    "    y_pred = linear_regression.predict([[2000]])\n",
    "    print('predicted price when size 2000:', y_pred)\n",
    "\n",
    "    import matplotlib.pyplot as plt\n",
    "    plt.figure(figsize=(10, 6))\n",
    "    plt.scatter(X_test, y_test, color='blue', label='y_test')\n",
    "\n",
    "    plt.plot(X_test, y_hat_test, 'r--', label='y_hat_test')\n",
    "    plt.xlabel('x_test')\n",
    "    plt.ylabel('y_test / y_hat_test')\n",
    "    plt.legend()\n",
    "    plt.show()"
   ],
   "metadata": {
    "collapsed": false,
    "ExecuteTime": {
     "end_time": "2024-06-21T05:02:52.903443Z",
     "start_time": "2024-06-21T05:02:52.894943600Z"
    }
   }
  },
  {
   "cell_type": "code",
   "execution_count": 6,
   "outputs": [],
   "source": [
    "#predict_price_sklearn()"
   ],
   "metadata": {
    "collapsed": false,
    "ExecuteTime": {
     "end_time": "2024-06-21T05:02:52.911708Z",
     "start_time": "2024-06-21T05:02:52.898717700Z"
    }
   }
  },
  {
   "cell_type": "code",
   "execution_count": 17,
   "outputs": [
    {
     "name": "stdout",
     "output_type": "stream",
     "text": [
      "predict_price using ml\n",
      "csv\n",
      "   sqft_living      price\n",
      "0         1340   313000.0\n",
      "1         3650  2384000.0\n",
      "2         1930   342000.0\n",
      "3         2000   420000.0\n",
      "4         1940   550000.0\n",
      "data\n",
      "(3640,) (3640,) (911,) (911,)\n",
      "X_train\n",
      " 4134    1360\n",
      "2098    2210\n",
      "3706    1200\n",
      "4055    2860\n",
      "2153    1760\n",
      "Name: sqft_living, dtype: int64\n",
      "y_train\n",
      " 4134    399500.0\n",
      "2098    250250.0\n",
      "3706    165050.0\n",
      "4055    378500.0\n",
      "2153    554000.0\n",
      "Name: price, dtype: float64\n",
      "X_test\n",
      " 471     5420\n",
      "2518    1980\n",
      "23      2730\n",
      "3922    1020\n",
      "135     2300\n",
      "Name: sqft_living, dtype: int64\n",
      "y_test\n",
      " 471     1225000.0\n",
      "2518     496752.0\n",
      "23       612500.0\n",
      "3922     265000.0\n",
      "135      615000.0\n",
      "Name: price, dtype: float64\n",
      "ml v19\n",
      "X 4134    1360\n",
      "2098    2210\n",
      "3706    1200\n",
      "4055    2860\n",
      "2153    1760\n",
      "        ... \n",
      "4447    1200\n",
      "466     2520\n",
      "3092    1150\n",
      "3772     910\n",
      "860     1490\n",
      "Name: sqft_living, Length: 3640, dtype: int64\n",
      "X shape (3640,)\n"
     ]
    },
    {
     "ename": "IndexError",
     "evalue": "tuple index out of range",
     "output_type": "error",
     "traceback": [
      "\u001B[1;31m---------------------------------------------------------------------------\u001B[0m",
      "\u001B[1;31mIndexError\u001B[0m                                Traceback (most recent call last)",
      "Cell \u001B[1;32mIn[17], line 3\u001B[0m\n\u001B[0;32m      1\u001B[0m importlib\u001B[38;5;241m.\u001B[39mreload(ml)\n\u001B[1;32m----> 3\u001B[0m \u001B[43mpredict_price\u001B[49m\u001B[43m(\u001B[49m\u001B[43m)\u001B[49m\n",
      "Cell \u001B[1;32mIn[4], line 7\u001B[0m, in \u001B[0;36mpredict_price\u001B[1;34m()\u001B[0m\n\u001B[0;32m      5\u001B[0m X_test \u001B[38;5;241m=\u001B[39m X_test\u001B[38;5;241m.\u001B[39mT\n\u001B[0;32m      6\u001B[0m linear_regression \u001B[38;5;241m=\u001B[39m LinearRegression(\u001B[38;5;28;01mNone\u001B[39;00m, \u001B[38;5;241m0.0000001\u001B[39m, \u001B[38;5;241m0.0001\u001B[39m, \u001B[38;5;241m1000000000\u001B[39m)\n\u001B[1;32m----> 7\u001B[0m \u001B[43mlinear_regression\u001B[49m\u001B[38;5;241;43m.\u001B[39;49m\u001B[43mfit\u001B[49m\u001B[43m(\u001B[49m\u001B[43mX_train\u001B[49m\u001B[43m,\u001B[49m\u001B[43m \u001B[49m\u001B[43my_train\u001B[49m\u001B[43m)\u001B[49m\n\u001B[0;32m      9\u001B[0m y_hat_test \u001B[38;5;241m=\u001B[39m linear_regression\u001B[38;5;241m.\u001B[39mpredict(X_test)\n\u001B[0;32m     10\u001B[0m cost_test \u001B[38;5;241m=\u001B[39m linear_regression\u001B[38;5;241m.\u001B[39mcost_function\u001B[38;5;241m.\u001B[39mcost(y_test, y_hat_test)\n",
      "File \u001B[1;32mC:\\_repo\\ml\\regression\\ml.py:64\u001B[0m, in \u001B[0;36mLinearRegression.fit\u001B[1;34m(self, X, y, w_init, b_init)\u001B[0m\n\u001B[0;32m     62\u001B[0m \u001B[38;5;28mprint\u001B[39m(\u001B[38;5;124m'\u001B[39m\u001B[38;5;124mX shape\u001B[39m\u001B[38;5;124m'\u001B[39m, X\u001B[38;5;241m.\u001B[39mshape)\n\u001B[0;32m     63\u001B[0m \u001B[38;5;28;01mif\u001B[39;00m w_init \u001B[38;5;129;01mis\u001B[39;00m \u001B[38;5;28;01mNone\u001B[39;00m:\n\u001B[1;32m---> 64\u001B[0m     w_init \u001B[38;5;241m=\u001B[39m np\u001B[38;5;241m.\u001B[39mzeros((\u001B[38;5;241m1\u001B[39m, \u001B[43mX\u001B[49m\u001B[38;5;241;43m.\u001B[39;49m\u001B[43mshape\u001B[49m\u001B[43m[\u001B[49m\u001B[38;5;241;43m1\u001B[39;49m\u001B[43m]\u001B[49m))\n\u001B[0;32m     65\u001B[0m \u001B[38;5;28;01mif\u001B[39;00m b_init \u001B[38;5;129;01mis\u001B[39;00m \u001B[38;5;28;01mNone\u001B[39;00m:\n\u001B[0;32m     66\u001B[0m     b_init \u001B[38;5;241m=\u001B[39m \u001B[38;5;241m0\u001B[39m\n",
      "\u001B[1;31mIndexError\u001B[0m: tuple index out of range"
     ]
    }
   ],
   "source": [
    "\n",
    "\n",
    "importlib.reload(ml)\n",
    "\n",
    "predict_price()"
   ],
   "metadata": {
    "collapsed": false,
    "ExecuteTime": {
     "end_time": "2024-06-21T05:16:57.259054800Z",
     "start_time": "2024-06-21T05:16:57.194891600Z"
    }
   }
  },
  {
   "cell_type": "code",
   "execution_count": null,
   "outputs": [],
   "source": [],
   "metadata": {
    "collapsed": false,
    "ExecuteTime": {
     "start_time": "2024-06-21T05:02:53.189365700Z"
    }
   }
  },
  {
   "cell_type": "code",
   "execution_count": null,
   "outputs": [],
   "source": [],
   "metadata": {
    "collapsed": false
   }
  }
 ],
 "metadata": {
  "kernelspec": {
   "display_name": "Python 3",
   "language": "python",
   "name": "python3"
  },
  "language_info": {
   "codemirror_mode": {
    "name": "ipython",
    "version": 2
   },
   "file_extension": ".py",
   "mimetype": "text/x-python",
   "name": "python",
   "nbconvert_exporter": "python",
   "pygments_lexer": "ipython2",
   "version": "2.7.6"
  }
 },
 "nbformat": 4,
 "nbformat_minor": 0
}
